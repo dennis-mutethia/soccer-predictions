import matplotlib.pyplot as plt
import numpy as np

stops_data = [
    # Your data here
]

# Plotting the data
plt.plot(stops_data)
plt.title('Stops Data')
plt.xlabel('Index')
plt.ylabel('Value')

# Display the plot
plt.show()

# Calculate statistical measures
mean_value = np.mean(stops_data)
median_value = np.median(stops_data)
std_deviation = np.std(stops_data)

print(f"Mean: {mean_value}")
print(f"Median: {median_value}")
print(f"Standard Deviation: {std_deviation}")
